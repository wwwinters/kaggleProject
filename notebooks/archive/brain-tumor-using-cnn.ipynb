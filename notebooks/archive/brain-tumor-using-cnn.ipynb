{
 "cells": [
  {
   "cell_type": "code",
   "execution_count": null,
   "id": "b9db20aa",
   "metadata": {
    "_cell_guid": "b1076dfc-b9ad-4769-8c92-a6c4dae69d19",
    "_uuid": "8f2839f25d086af736a60e9eeb907d3b93b6e0e5",
    "papermill": {
     "duration": 7.369626,
     "end_time": "2025-01-11T00:14:15.448440",
     "exception": false,
     "start_time": "2025-01-11T00:14:08.078814",
     "status": "completed"
    },
    "tags": []
   },
   "outputs": [],
   "source": [
    "# This Python 3 environment comes with many helpful analytics libraries installed\n",
    "# It is defined by the kaggle/python Docker image: https://github.com/kaggle/docker-python\n",
    "# For example, here's several helpful packages to load\n",
    "\n",
    "import numpy as np # linear algebra\n",
    "import pandas as pd # data processing, CSV file I/O (e.g. pd.read_csv)\n",
    "\n",
    "# Input data files are available in the read-only \"../input/\" directory\n",
    "# For example, running this (by clicking run or pressing Shift+Enter) will list all files under the input directory\n",
    "\n",
    "import os\n",
    "for dirname, _, filenames in os.walk('/kaggle/input'):\n",
    "    for filename in filenames:\n",
    "        print(os.path.join(dirname, filename))\n",
    "\n",
    "# You can write up to 20GB to the current directory (/kaggle/working/) that gets preserved as output when you create a version using \"Save & Run All\" \n",
    "# You can also write temporary files to /kaggle/temp/, but they won't be saved outside of the current session"
   ]
  },
  {
   "cell_type": "code",
   "execution_count": null,
   "id": "0046bed3",
   "metadata": {
    "papermill": {
     "duration": 8.46807,
     "end_time": "2025-01-11T00:14:23.924943",
     "exception": false,
     "start_time": "2025-01-11T00:14:15.456873",
     "status": "completed"
    },
    "tags": []
   },
   "outputs": [],
   "source": [
    "import keras\n",
    "from keras.models import Sequential\n",
    "from keras.layers import Conv2D , Flatten,Dense,MaxPooling2D,Dropout\n",
    "from sklearn.metrics import accuracy_score"
   ]
  },
  {
   "cell_type": "code",
   "execution_count": null,
   "id": "bcc23a99",
   "metadata": {
    "papermill": {
     "duration": 0.432512,
     "end_time": "2025-01-11T00:14:24.365468",
     "exception": false,
     "start_time": "2025-01-11T00:14:23.932956",
     "status": "completed"
    },
    "tags": []
   },
   "outputs": [],
   "source": [
    "import ipywidgets as widgets\n",
    "import io\n",
    "from PIL import Image\n",
    "import tqdm\n",
    "from sklearn.model_selection import train_test_split\n",
    "import cv2\n",
    "from sklearn.utils import shuffle\n",
    "import tensorflow as tf\n",
    "import os\n",
    "import numpy as np"
   ]
  },
  {
   "cell_type": "markdown",
   "id": "e9ddb835",
   "metadata": {
    "papermill": {
     "duration": 0.007087,
     "end_time": "2025-01-11T00:14:24.381720",
     "exception": false,
     "start_time": "2025-01-11T00:14:24.374633",
     "status": "completed"
    },
    "tags": []
   },
   "source": [
    "Folder Path"
   ]
  },
  {
   "cell_type": "markdown",
   "id": "97b6025e",
   "metadata": {
    "papermill": {
     "duration": 0.007086,
     "end_time": "2025-01-11T00:14:24.396180",
     "exception": false,
     "start_time": "2025-01-11T00:14:24.389094",
     "status": "completed"
    },
    "tags": []
   },
   "source": []
  },
  {
   "cell_type": "code",
   "execution_count": null,
   "id": "7dc243e3",
   "metadata": {
    "papermill": {
     "duration": 23.058601,
     "end_time": "2025-01-11T00:14:47.461782",
     "exception": false,
     "start_time": "2025-01-11T00:14:24.403181",
     "status": "completed"
    },
    "tags": []
   },
   "outputs": [],
   "source": [
    "X_train = []\n",
    "Y_train = []\n",
    "image_size = 150\n",
    "labels = [\"glioma_tumor\" , \"meningioma_tumor\",\"no_tumor\",\"pituitary_tumor\"]\n",
    "for i in labels:\n",
    "    folderpath = os.path.join(\"/kaggle/input/brain-tumor-classification-mri/Training\",i)\n",
    "    for j in os.listdir(folderpath):\n",
    "        img = cv2.imread(os.path.join(folderpath,j))\n",
    "        img = cv2.resize(img,(image_size,image_size))\n",
    "        X_train.append(img)\n",
    "        Y_train.append(i)\n",
    "\n",
    "for i in labels:\n",
    "    folderpath = os.path.join(\"/kaggle/input/brain-tumor-classification-mri/Testing\",i)\n",
    "    for j in os.listdir(folderpath):\n",
    "        img = cv2.imread(os.path.join(folderpath,j))\n",
    "        img = cv2.resize(img,(image_size,image_size))\n",
    "        X_train.append(img)\n",
    "        Y_train.append(i)\n",
    "\n",
    "X_train = np.array(X_train)\n",
    "Y_train = np.array(Y_train)"
   ]
  },
  {
   "cell_type": "code",
   "execution_count": null,
   "id": "97040207",
   "metadata": {
    "papermill": {
     "duration": 0.082365,
     "end_time": "2025-01-11T00:14:47.551834",
     "exception": false,
     "start_time": "2025-01-11T00:14:47.469469",
     "status": "completed"
    },
    "tags": []
   },
   "outputs": [],
   "source": [
    "X_train , Y_train = shuffle(X_train , Y_train , random_state=101)\n",
    "X_train.shape"
   ]
  },
  {
   "cell_type": "markdown",
   "id": "71e7400a",
   "metadata": {
    "papermill": {
     "duration": 0.007121,
     "end_time": "2025-01-11T00:14:47.566610",
     "exception": false,
     "start_time": "2025-01-11T00:14:47.559489",
     "status": "completed"
    },
    "tags": []
   },
   "source": [
    "Train_Test_split"
   ]
  },
  {
   "cell_type": "code",
   "execution_count": null,
   "id": "acf52fdc",
   "metadata": {
    "papermill": {
     "duration": 0.075633,
     "end_time": "2025-01-11T00:14:47.649445",
     "exception": false,
     "start_time": "2025-01-11T00:14:47.573812",
     "status": "completed"
    },
    "tags": []
   },
   "outputs": [],
   "source": [
    "X_train , X_test , Y_train , Y_test = train_test_split(X_train,Y_train,test_size=0.1 , random_state= 101)"
   ]
  },
  {
   "cell_type": "code",
   "execution_count": null,
   "id": "9fa950bc",
   "metadata": {
    "papermill": {
     "duration": 0.038223,
     "end_time": "2025-01-11T00:14:47.695392",
     "exception": false,
     "start_time": "2025-01-11T00:14:47.657169",
     "status": "completed"
    },
    "tags": []
   },
   "outputs": [],
   "source": [
    "Y_train_new =[]\n",
    "for i in Y_train:\n",
    "    Y_train_new.append(labels.index(i))\n",
    "Y_train = Y_train_new\n",
    "Y_train = tf.keras.utils.to_categorical(Y_train)\n",
    "\n",
    "Y_test_new =[]\n",
    "for i in Y_test:\n",
    "    Y_test_new.append(labels.index(i))\n",
    "Y_test = Y_test_new\n",
    "Y_test = tf.keras.utils.to_categorical(Y_test)"
   ]
  },
  {
   "cell_type": "markdown",
   "id": "963b2892",
   "metadata": {
    "papermill": {
     "duration": 0.00688,
     "end_time": "2025-01-11T00:14:47.709580",
     "exception": false,
     "start_time": "2025-01-11T00:14:47.702700",
     "status": "completed"
    },
    "tags": []
   },
   "source": [
    "CNN MODEL"
   ]
  },
  {
   "cell_type": "code",
   "execution_count": null,
   "id": "8a554785",
   "metadata": {
    "papermill": {
     "duration": 0.883957,
     "end_time": "2025-01-11T00:14:48.600515",
     "exception": false,
     "start_time": "2025-01-11T00:14:47.716558",
     "status": "completed"
    },
    "tags": []
   },
   "outputs": [],
   "source": [
    "model = Sequential()\n",
    "model.add(Conv2D(32, (3,3) ,activation = \"relu\" , input_shape=(150,150,3)))\n",
    "model.add(Conv2D(64,(3,3), activation =\"relu\"))\n",
    "model.add(MaxPooling2D(2,2))\n",
    "model.add(Dropout(0.3))\n",
    "model.add(Conv2D(64,(3,3), activation =\"relu\"))\n",
    "model.add(Conv2D(64,(3,3), activation =\"relu\"))\n",
    "model.add(Dropout(0.3))\n",
    "model.add(MaxPooling2D(2,2))\n",
    "model.add(Dropout(0.3))\n",
    "model.add(Conv2D(128,(3,3), activation =\"relu\"))\n",
    "model.add(Conv2D(128,(3,3), activation =\"relu\"))\n",
    "model.add(Conv2D(128,(3,3), activation =\"relu\"))\n",
    "model.add(MaxPooling2D(2,2))\n",
    "model.add(Dropout(0.3))\n",
    "model.add(Conv2D(128,(3,3), activation =\"relu\"))\n",
    "model.add(Conv2D(256,(3,3), activation =\"relu\"))\n",
    "model.add(MaxPooling2D(2,2))\n",
    "model.add(Dropout(0.3))\n",
    "\n",
    "model.add(Flatten())\n",
    "model.add(Dense(512 , activation = \"relu\"  ))\n",
    "model.add(Dense(512 , activation = \"relu\"  ))\n",
    "model.add(Dropout(0.3))\n",
    "\n",
    "model.add(Dense(4 , activation = \"softmax\" ))"
   ]
  },
  {
   "cell_type": "code",
   "execution_count": null,
   "id": "a13135a2",
   "metadata": {
    "papermill": {
     "duration": 0.036068,
     "end_time": "2025-01-11T00:14:48.644239",
     "exception": false,
     "start_time": "2025-01-11T00:14:48.608171",
     "status": "completed"
    },
    "tags": []
   },
   "outputs": [],
   "source": [
    "model.summary()"
   ]
  },
  {
   "cell_type": "code",
   "execution_count": null,
   "id": "cf976f08",
   "metadata": {
    "papermill": {
     "duration": 0.020003,
     "end_time": "2025-01-11T00:14:48.673004",
     "exception": false,
     "start_time": "2025-01-11T00:14:48.653001",
     "status": "completed"
    },
    "tags": []
   },
   "outputs": [],
   "source": [
    "model.compile(loss = \"categorical_crossentropy\" , optimizer = \"Adam\" , metrics = [\"accuracy\"])"
   ]
  },
  {
   "cell_type": "code",
   "execution_count": null,
   "id": "8bcf3ece",
   "metadata": {
    "papermill": {
     "duration": 85.853678,
     "end_time": "2025-01-11T00:16:14.535088",
     "exception": false,
     "start_time": "2025-01-11T00:14:48.681410",
     "status": "completed"
    },
    "tags": []
   },
   "outputs": [],
   "source": [
    "history = model.fit(X_train , Y_train ,epochs=20 , validation_split=0.1)"
   ]
  },
  {
   "cell_type": "code",
   "execution_count": null,
   "id": "60e8e8b3",
   "metadata": {
    "papermill": {
     "duration": 0.25122,
     "end_time": "2025-01-11T00:16:14.836173",
     "exception": false,
     "start_time": "2025-01-11T00:16:14.584953",
     "status": "completed"
    },
    "tags": []
   },
   "outputs": [],
   "source": [
    "import matplotlib.pyplot as plt\n",
    "import seaborn as sns "
   ]
  },
  {
   "cell_type": "code",
   "execution_count": null,
   "id": "791c0cb2",
   "metadata": {
    "papermill": {
     "duration": 0.465007,
     "end_time": "2025-01-11T00:16:15.348994",
     "exception": false,
     "start_time": "2025-01-11T00:16:14.883987",
     "status": "completed"
    },
    "tags": []
   },
   "outputs": [],
   "source": [
    "model.save(\"braintumor.h5\")\n",
    "\n",
    "acc = history.history[\"accuracy\"]\n",
    "val_acc = history.history[\"val_accuracy\"]\n",
    "epochs = range(len(acc))\n",
    "fig = plt.figure(figsize=(14,7))\n",
    "plt.plot(epochs,acc , \"r\" ,label = \"Trainig Accuracy\")\n",
    "plt.plot(epochs,val_acc , \"b\" ,label = \"Validation Accuracy\")\n",
    "plt.legend(loc=\"upper left\")\n",
    "plt.show()"
   ]
  },
  {
   "cell_type": "code",
   "execution_count": null,
   "id": "a0853f21",
   "metadata": {
    "papermill": {
     "duration": 0.303965,
     "end_time": "2025-01-11T00:16:15.702961",
     "exception": false,
     "start_time": "2025-01-11T00:16:15.398996",
     "status": "completed"
    },
    "tags": []
   },
   "outputs": [],
   "source": [
    "loss = history.history[\"loss\"]\n",
    "val_loss = history.history[\"val_loss\"]\n",
    "epochs = range(len(loss))\n",
    "fig = plt.figure(figsize=(14,7))\n",
    "plt.plot(epochs,loss , \"r\" ,label = \"Trainig loss\")\n",
    "plt.plot(epochs,val_loss , \"b\" ,label = \"Validation loss\")\n",
    "plt.legend(loc=\"upper left\")\n",
    "plt.show()"
   ]
  },
  {
   "cell_type": "markdown",
   "id": "235ce5df",
   "metadata": {
    "papermill": {
     "duration": 0.048667,
     "end_time": "2025-01-11T00:16:15.802608",
     "exception": false,
     "start_time": "2025-01-11T00:16:15.753941",
     "status": "completed"
    },
    "tags": []
   },
   "source": [
    "Prediction"
   ]
  },
  {
   "cell_type": "code",
   "execution_count": null,
   "id": "3dbfbca8",
   "metadata": {
    "papermill": {
     "duration": 0.059463,
     "end_time": "2025-01-11T00:16:15.919029",
     "exception": false,
     "start_time": "2025-01-11T00:16:15.859566",
     "status": "completed"
    },
    "tags": []
   },
   "outputs": [],
   "source": [
    "img = cv2.imread(\"/kaggle/input/brain-tumor-classification-mri/Training/pituitary_tumor/p (107).jpg\")\n",
    "img = cv2.resize(img,(150,150))\n",
    "img_array = np.array(img)\n",
    "img_array.shape"
   ]
  },
  {
   "cell_type": "code",
   "execution_count": null,
   "id": "886e6cb3",
   "metadata": {
    "papermill": {
     "duration": 0.05458,
     "end_time": "2025-01-11T00:16:16.022630",
     "exception": false,
     "start_time": "2025-01-11T00:16:15.968050",
     "status": "completed"
    },
    "tags": []
   },
   "outputs": [],
   "source": [
    "img_array = img_array.reshape(1,150,150,3)\n",
    "img_array.shape"
   ]
  },
  {
   "cell_type": "code",
   "execution_count": null,
   "id": "4ec5343b",
   "metadata": {
    "papermill": {
     "duration": 0.343062,
     "end_time": "2025-01-11T00:16:16.415479",
     "exception": false,
     "start_time": "2025-01-11T00:16:16.072417",
     "status": "completed"
    },
    "tags": []
   },
   "outputs": [],
   "source": [
    "from tensorflow.keras.preprocessing import image\n",
    "img = image.load_img(\"/kaggle/input/brain-tumor-classification-mri/Training/pituitary_tumor/p (107).jpg\")\n",
    "plt.imshow(img,interpolation=\"nearest\")\n",
    "plt.show()"
   ]
  },
  {
   "cell_type": "code",
   "execution_count": null,
   "id": "72d54c96",
   "metadata": {
    "papermill": {
     "duration": 0.902824,
     "end_time": "2025-01-11T00:16:17.371565",
     "exception": false,
     "start_time": "2025-01-11T00:16:16.468741",
     "status": "completed"
    },
    "tags": []
   },
   "outputs": [],
   "source": [
    "a = model.predict(img_array)\n",
    "indices = a.argmax()\n",
    "indices"
   ]
  },
  {
   "cell_type": "code",
   "execution_count": null,
   "id": "281642c7",
   "metadata": {
    "papermill": {
     "duration": 0.051489,
     "end_time": "2025-01-11T00:16:17.477244",
     "exception": false,
     "start_time": "2025-01-11T00:16:17.425755",
     "status": "completed"
    },
    "tags": []
   },
   "outputs": [],
   "source": []
  }
 ],
 "metadata": {
  "kaggle": {
   "accelerator": "gpu",
   "dataSources": [
    {
     "datasetId": 672377,
     "sourceId": 1183165,
     "sourceType": "datasetVersion"
    }
   ],
   "dockerImageVersionId": 30823,
   "isGpuEnabled": true,
   "isInternetEnabled": true,
   "language": "python",
   "sourceType": "notebook"
  },
  "kernelspec": {
   "display_name": "Python 3 (ipykernel)",
   "language": "python",
   "name": "python3"
  },
  "language_info": {
   "codemirror_mode": {
    "name": "ipython",
    "version": 3
   },
   "file_extension": ".py",
   "mimetype": "text/x-python",
   "name": "python",
   "nbconvert_exporter": "python",
   "pygments_lexer": "ipython3",
   "version": "3.12.9"
  },
  "papermill": {
   "default_parameters": {},
   "duration": 133.300147,
   "end_time": "2025-01-11T00:16:19.250027",
   "environment_variables": {},
   "exception": null,
   "input_path": "__notebook__.ipynb",
   "output_path": "__notebook__.ipynb",
   "parameters": {},
   "start_time": "2025-01-11T00:14:05.949880",
   "version": "2.6.0"
  }
 },
 "nbformat": 4,
 "nbformat_minor": 5
}
